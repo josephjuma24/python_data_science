{
 "cells": [
  {
   "cell_type": "code",
   "execution_count": 2,
   "id": "589bf69d-1fb7-4451-b1ad-eb7df61c0df2",
   "metadata": {},
   "outputs": [
    {
     "name": "stdout",
     "output_type": "stream",
     "text": [
      "apple\n",
      "banana\n",
      "cherry\n",
      "mango\n",
      "pineapple\n",
      "apple\n"
     ]
    }
   ],
   "source": [
    "for fruit in [\"apple\", \"banana\", \"cherry\", \"mango\", \"pineapple\", \"apple\",]:\n",
    " print(fruit)"
   ]
  },
  {
   "cell_type": "markdown",
   "id": "5c1700d4-c615-4a0f-96c8-3179d445d8be",
   "metadata": {},
   "source": [
    "### List"
   ]
  },
  {
   "cell_type": "code",
   "execution_count": 6,
   "id": "2c22c9c4-ecd7-4d19-9c2d-823cc172c8df",
   "metadata": {},
   "outputs": [
    {
     "name": "stdout",
     "output_type": "stream",
     "text": [
      "[1, 2, 3, 4, 1, 2, 3, 4]\n"
     ]
    }
   ],
   "source": [
    "x = [1, 2, 3, 4]\n",
    "print (x * 2)"
   ]
  },
  {
   "cell_type": "markdown",
   "id": "5aea2f85-dc9c-4ae0-8f22-f55ad6107079",
   "metadata": {},
   "source": [
    "### Numpy Array"
   ]
  },
  {
   "cell_type": "code",
   "execution_count": 4,
   "id": "bc5e4f1d-0680-442b-8c4b-0ce03e6f09e1",
   "metadata": {},
   "outputs": [
    {
     "name": "stdout",
     "output_type": "stream",
     "text": [
      "[2 4 6 8]\n"
     ]
    }
   ],
   "source": [
    "import numpy as np\n",
    "arr = np. array ([1, 2, 3, 4])\n",
    "print (arr * 2)"
   ]
  },
  {
   "cell_type": "markdown",
   "id": "2c95f4a6-5c03-443c-9e52-162d59b2e675",
   "metadata": {},
   "source": [
    "### Array"
   ]
  },
  {
   "cell_type": "code",
   "execution_count": 9,
   "id": "d2c511d2-3bc4-40f1-9665-ba2f2da22be7",
   "metadata": {},
   "outputs": [
    {
     "name": "stdout",
     "output_type": "stream",
     "text": [
      "Toyota\n"
     ]
    }
   ],
   "source": [
    "cars = [\"Toyota\", \"Ford\", \"Volvo\", \"BMW\"]\n",
    "\n",
    "x = cars[0]\n",
    "\n",
    "print(x)"
   ]
  },
  {
   "cell_type": "code",
   "execution_count": 12,
   "id": "0d600dae-af36-40af-af7f-8efcd5ca0459",
   "metadata": {},
   "outputs": [
    {
     "name": "stdout",
     "output_type": "stream",
     "text": [
      "4\n"
     ]
    }
   ],
   "source": [
    "x = len(cars)\n",
    "print(x)"
   ]
  },
  {
   "cell_type": "code",
   "execution_count": null,
   "id": "8508eb78-faf6-4476-8b61-93a64f4aa43e",
   "metadata": {},
   "outputs": [],
   "source": []
  }
 ],
 "metadata": {
  "kernelspec": {
   "display_name": "Python 3 (ipykernel)",
   "language": "python",
   "name": "python3"
  },
  "language_info": {
   "codemirror_mode": {
    "name": "ipython",
    "version": 3
   },
   "file_extension": ".py",
   "mimetype": "text/x-python",
   "name": "python",
   "nbconvert_exporter": "python",
   "pygments_lexer": "ipython3",
   "version": "3.12.7"
  }
 },
 "nbformat": 4,
 "nbformat_minor": 5
}
